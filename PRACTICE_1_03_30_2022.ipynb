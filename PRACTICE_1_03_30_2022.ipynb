{
  "nbformat": 4,
  "nbformat_minor": 0,
  "metadata": {
    "colab": {
      "name": "PRACTICE 1: 03-30-2022",
      "provenance": [],
      "authorship_tag": "ABX9TyM9MTJEBmVARNH9xwVJeXED",
      "include_colab_link": true
    },
    "kernelspec": {
      "name": "python3",
      "display_name": "Python 3"
    },
    "language_info": {
      "name": "python"
    }
  },
  "cells": [
    {
      "cell_type": "markdown",
      "metadata": {
        "id": "view-in-github",
        "colab_type": "text"
      },
      "source": [
        "<a href=\"https://colab.research.google.com/github/ECBelarmino/Drafts/blob/main/PRACTICE_1_03_30_2022.ipynb\" target=\"_parent\"><img src=\"https://colab.research.google.com/assets/colab-badge.svg\" alt=\"Open In Colab\"/></a>"
      ]
    },
    {
      "cell_type": "markdown",
      "source": [
        "# Function: Def"
      ],
      "metadata": {
        "id": "jaq2I3Re5MlT"
      }
    },
    {
      "cell_type": "code",
      "source": [
        "def car():\n",
        "  print (\"Honda\")\n",
        "  print (\"Toyota\")\n",
        "  print (\"Mitsubishi\")\n",
        "\n",
        "car()"
      ],
      "metadata": {
        "colab": {
          "base_uri": "https://localhost:8080/"
        },
        "id": "nGykimW95d6Z",
        "outputId": "0342c5d4-3a8a-4e4b-b1c7-18f32beac0e1"
      },
      "execution_count": null,
      "outputs": [
        {
          "output_type": "stream",
          "name": "stdout",
          "text": [
            "Honda\n",
            "Toyota\n",
            "Mitsubishi\n"
          ]
        }
      ]
    },
    {
      "cell_type": "code",
      "source": [
        "def Philippines():\n",
        "  list = \"Luzon\", \"Visayas\", \"Mindanao\"\n",
        "  print (list)\n",
        "\n",
        "Philippines()"
      ],
      "metadata": {
        "colab": {
          "base_uri": "https://localhost:8080/"
        },
        "id": "1qHIPaz6727b",
        "outputId": "bf3d9174-1be5-498c-8cb5-9c97832e5265"
      },
      "execution_count": null,
      "outputs": [
        {
          "output_type": "stream",
          "name": "stdout",
          "text": [
            "('Luzon', 'Visayas', 'Mindanao')\n"
          ]
        }
      ]
    },
    {
      "cell_type": "markdown",
      "source": [
        "# Function: Arguments"
      ],
      "metadata": {
        "id": "FCWuvPBg9-VI"
      }
    },
    {
      "cell_type": "code",
      "source": [
        "def cutiepie(name):\n",
        "  print (name + \" :<\")\n",
        "\n",
        "cutiepie (\"Lorenzo\")\n",
        "cutiepie (\"Renz\")\n",
        "cutiepie (\"Conrad\")\n",
        "cutiepie (\"Dwight\")\n",
        "cutiepie (\"Luciel\")\n",
        "cutiepie (\"Gwen\")"
      ],
      "metadata": {
        "colab": {
          "base_uri": "https://localhost:8080/"
        },
        "id": "cRCrf_w1-BR_",
        "outputId": "1bbec2c5-e34a-4144-eb53-a544a55f5a1b"
      },
      "execution_count": null,
      "outputs": [
        {
          "output_type": "stream",
          "name": "stdout",
          "text": [
            "Lorenzo :<\n",
            "Renz :<\n",
            "Conrad :<\n",
            "Dwight :<\n",
            "Luciel :<\n",
            "Gwen :<\n"
          ]
        }
      ]
    }
  ]
}